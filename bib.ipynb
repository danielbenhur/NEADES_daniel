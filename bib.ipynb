{
  "nbformat": 4,
  "nbformat_minor": 0,
  "metadata": {
    "colab": {
      "provenance": [],
      "authorship_tag": "ABX9TyMP+mT9uQtAPZUgpEdWxDKP",
      "include_colab_link": true
    },
    "kernelspec": {
      "name": "ir",
      "display_name": "R"
    },
    "language_info": {
      "name": "R"
    }
  },
  "cells": [
    {
      "cell_type": "markdown",
      "metadata": {
        "id": "view-in-github",
        "colab_type": "text"
      },
      "source": [
        "<a href=\"https://colab.research.google.com/github/danielbenhur/NEADES_daniel/blob/main/bib.ipynb\" target=\"_parent\"><img src=\"https://colab.research.google.com/assets/colab-badge.svg\" alt=\"Open In Colab\"/></a>"
      ]
    },
    {
      "cell_type": "code",
      "execution_count": 1,
      "metadata": {
        "colab": {
          "base_uri": "https://localhost:8080/"
        },
        "id": "lJJfJOCCJqaz",
        "outputId": "01c54022-da69-47d6-ca8c-8fe27da63282"
      },
      "outputs": [
        {
          "output_type": "stream",
          "name": "stderr",
          "text": [
            "Installing package into ‘/usr/local/lib/R/site-library’\n",
            "(as ‘lib’ is unspecified)\n",
            "\n",
            "also installing the dependencies ‘SparseM’, ‘MatrixModels’, ‘minqa’, ‘nloptr’, ‘RcppEigen’, ‘carData’, ‘abind’, ‘pbkrtest’, ‘quantreg’, ‘lme4’, ‘estimability’, ‘numDeriv’, ‘mvtnorm’, ‘htmlwidgets’, ‘crosstalk’, ‘promises’, ‘car’, ‘ellipse’, ‘emmeans’, ‘flashClust’, ‘leaps’, ‘multcompView’, ‘scatterplot3d’, ‘Rcpp’, ‘lazyeval’, ‘rentrez’, ‘XML’, ‘plyr’, ‘httpuv’, ‘xtable’, ‘sourcetools’, ‘later’, ‘janeaustenr’, ‘tokenizers’, ‘bibliometrixData’, ‘dimensionsR’, ‘DT’, ‘FactoMineR’, ‘ggrepel’, ‘igraph’, ‘plotly’, ‘openxlsx’, ‘pubmedR’, ‘rscopus’, ‘shiny’, ‘SnowballC’, ‘stringdist’, ‘tidytext’\n",
            "\n",
            "\n"
          ]
        }
      ],
      "source": [
        "install.packages(\"bibliometrix\") # Baixar o pacote. Só precisa fazer isso uma vez! E demora muito, por vezes muitos minutos!"
      ]
    },
    {
      "cell_type": "code",
      "source": [
        "library(bibliometrix) # carregar o pacote na memória para utilizá-lo agora."
      ],
      "metadata": {
        "colab": {
          "base_uri": "https://localhost:8080/"
        },
        "id": "QT3j86vaKERJ",
        "outputId": "975ee480-99a0-4b77-b967-5c02a40e8224"
      },
      "execution_count": 2,
      "outputs": [
        {
          "output_type": "stream",
          "name": "stderr",
          "text": [
            "Please note that our software is open source and available for use, distributed under the MIT license.\n",
            "When it is used in a publication, we ask that authors properly cite the following reference:\n",
            "\n",
            "Aria, M. & Cuccurullo, C. (2017) bibliometrix: An R-tool for comprehensive science mapping analysis, \n",
            "                        Journal of Informetrics, 11(4), pp 959-975, Elsevier.\n",
            "\n",
            "Failure to properly cite the software is considered a violation of the license.\n",
            "                        \n",
            "For information and bug reports:\n",
            "                        - Take a look at https://www.bibliometrix.org\n",
            "                        - Send an email to info@bibliometrix.org   \n",
            "                        - Write a post on https://github.com/massimoaria/bibliometrix/issues\n",
            "                        \n",
            "Help us to keep Bibliometrix and Biblioshiny free to download and use by contributing with a small donation to support our research team (https://bibliometrix.org/donate.html)\n",
            "\n",
            "                        \n",
            "To start with the Biblioshiny app, please digit:\n",
            "biblioshiny()\n",
            "\n",
            "\n"
          ]
        }
      ]
    },
    {
      "cell_type": "code",
      "source": [
        "# Dúvidas de uso do Bibliometrix, execute  o comando que segue:\n",
        "help(bibliometrix)"
      ],
      "metadata": {
        "id": "lMPpYnJDKIzj"
      },
      "execution_count": 3,
      "outputs": []
    },
    {
      "cell_type": "code",
      "source": [
        "############### ETAPA 1 - CARREGAMENTO E CONVERSÃO DOS DADOS ###############\n",
        "\n",
        "# WEB OF SCIENCE (ISI): Converter os dados para o padrão do bibliometrix\n",
        "A <- convert2df(\"/content/savedrecs.bib\", dbsource = \"isi\", format = \"bibtex\")\n",
        "\n",
        "# SCOPUS: Converter os dados   para o padrão do bibliometrix\n",
        "B <- convert2df(\"/content/scopus.bib\", dbsource = \"scopus\", format = \"bibtex\")\n",
        "\n",
        "# PUBMED: Se desejar caregar dado, execute o script do PubMed, gerando o arquivo de dados \"C\"\n",
        "\n",
        "# COCHRANE: Se desejar carregar dados  execute a linha que segue, gerando o arquivo de dados \"D\"\n",
        "# D <- convert2df(\"c:/bib/citation-export.bib\", dbsource = \"isi\", format = \"bibtex\")"
      ],
      "metadata": {
        "colab": {
          "base_uri": "https://localhost:8080/"
        },
        "id": "0hQRVbc1KMA7",
        "outputId": "ff6f32ad-e700-42bd-acc9-d17660d400c4"
      },
      "execution_count": 5,
      "outputs": [
        {
          "output_type": "stream",
          "name": "stdout",
          "text": [
            "\n",
            "Converting your isi collection into a bibliographic dataframe\n",
            "\n",
            "Done!\n",
            "\n",
            "\n",
            "Generating affiliation field tag AU_UN from C1:  Done!\n",
            "\n",
            "\n",
            "Converting your scopus collection into a bibliographic dataframe\n",
            "\n",
            "Done!\n",
            "\n",
            "\n",
            "Generating affiliation field tag AU_UN from C1:  Done!\n",
            "\n"
          ]
        }
      ]
    },
    {
      "cell_type": "code",
      "source": [
        "#### Juntar bases WEB OF SCIENCE (ISI), SCOPUS, PUBMED e COCHRANE\n",
        "M <- mergeDbSources(A, B, remove.duplicated = TRUE)\n",
        "# se precisar juntar dados do Pubmed e Cochrane, execute linha que segue\n",
        "# M <- mergeDbSources(A, B, C, D, remove.duplicated = TRUE)"
      ],
      "metadata": {
        "colab": {
          "base_uri": "https://localhost:8080/"
        },
        "id": "6eUUHfkkKVMu",
        "outputId": "5ba92ded-80d4-4041-93dd-448deee430cb"
      },
      "execution_count": 6,
      "outputs": [
        {
          "output_type": "stream",
          "name": "stdout",
          "text": [
            "\n",
            " 43 duplicated documents have been removed\n"
          ]
        }
      ]
    },
    {
      "cell_type": "code",
      "source": [
        "#### Cria um arquivo.csv para importar para o Excel\n",
        "P<- M[,c(\"AU\",\"TI\",\"SO\",\"AB\",\"DE\", \"ID\", \"DI\", \"LA\",\"DT\", \"TC\",\"PY\",\"SN\")]  # Cria lista na ordem desejada\n",
        "write.table(P, \"/content/artigos.csv\", sep=\";\", row.names=FALSE) # para gerar com separador \";\", sem necessidade de ajustar o CSV, quanto à primeira coluna"
      ],
      "metadata": {
        "id": "MLJSp2FXKX7m"
      },
      "execution_count": 9,
      "outputs": []
    },
    {
      "cell_type": "code",
      "source": [
        "#### BiblioAnalysis - Processamento dos dados\n",
        "resultados <- biblioAnalysis(M)"
      ],
      "metadata": {
        "id": "iWD3UhAaKZbp"
      },
      "execution_count": 10,
      "outputs": []
    },
    {
      "cell_type": "code",
      "source": [
        "############### ETAPA 2 - ANÁLISE e VISUALIZAÇÃO DOS DADOS ###############\n",
        "\n",
        "#### 2.1 - Resumo dos resultados na console do RStudio\n",
        "Resumo <- summary(object = resultados, k = 10)\n",
        "# plot(resultados, k=10)   # Gráficos com dados bibliométricos básicos"
      ],
      "metadata": {
        "colab": {
          "base_uri": "https://localhost:8080/"
        },
        "id": "lAeTQzvJKbB6",
        "outputId": "28b9edb3-3ebd-4fea-bab6-92a37c84c5e6"
      },
      "execution_count": 11,
      "outputs": [
        {
          "output_type": "stream",
          "name": "stdout",
          "text": [
            "\n",
            "\n",
            "MAIN INFORMATION ABOUT DATA\n",
            "\n",
            " Timespan                              2012 : 2022 \n",
            " Sources (Journals, Books, etc)        273 \n",
            " Documents                             582 \n",
            " Annual Growth Rate %                  16.39 \n",
            " Document Average Age                  4.47 \n",
            " Average citations per doc             25.5 \n",
            " Average citations per year per doc    3.612 \n",
            " References                            51381 \n",
            " \n",
            "DOCUMENT TYPES                     \n",
            " article                   394 \n",
            " review                    187 \n",
            " review; book chapter      1 \n",
            " \n",
            "DOCUMENT CONTENTS\n",
            " Keywords Plus (ID)                    3532 \n",
            " Author's Keywords (DE)                1775 \n",
            " \n",
            "AUTHORS\n",
            " Authors                               2276 \n",
            " Author Appearances                    2630 \n",
            " Authors of single-authored docs       70 \n",
            " \n",
            "AUTHORS COLLABORATION\n",
            " Single-authored docs                  73 \n",
            " Documents per Author                  0.256 \n",
            " Co-Authors per Doc                    4.52 \n",
            " International co-authorships %        3.608 \n",
            " \n",
            "\n",
            "Annual Scientific Production\n",
            "\n",
            " Year    Articles\n",
            "    2012       16\n",
            "    2013       33\n",
            "    2014       18\n",
            "    2015       34\n",
            "    2016       51\n",
            "    2017       39\n",
            "    2018       53\n",
            "    2019       60\n",
            "    2020       85\n",
            "    2021      120\n",
            "    2022       73\n",
            "\n",
            "Annual Percentage Growth Rate 16.39 \n",
            "\n",
            "\n",
            "Most Productive Authors\n",
            "\n",
            "   Authors        Articles Authors        Articles Fractionalized\n",
            "1  MISHRA A              9   MISHRA A                        3.18\n",
            "2  HALL J                8   HALL J                          2.51\n",
            "3  VARADY R              8   PAHL-WOSTL C                    2.31\n",
            "4  GARRICK D             6   MULLER M                        2.17\n",
            "5  PAHL-WOSTL C          6   KUMAR P                         2.06\n",
            "6  ZUNIGA-TERAN A        6   BAKKER K                        2.00\n",
            "7  BORGOMEO E            5   FALKENMARK M                    2.00\n",
            "8  GERLAK A              5   KAUFFER E                       2.00\n",
            "9  KUMAR P               5   OCTAVIANTI T                    2.00\n",
            "10 YOUNG S               5   VEETTIL A                       1.83\n",
            "\n",
            "\n",
            "Top manuscripts per citations\n",
            "\n",
            "                                          Paper                                      DOI  TC TCperYear  NTC\n",
            "1  MONTANARI A, 2013, HYDROL SCI J                       10.1080/02626667.2013.809088    457      41.5 6.93\n",
            "2  BREVIK EC, 2015, SOIL                                 10.5194/soil-1-117-2015         414      46.0 7.77\n",
            "3  GRANT SB, 2012, SCIENCE                               10.1126/science.1216852         383      31.9 2.77\n",
            "4  COOK C, 2012, GLOB ENVIRON CHANGE-HUMAN POLICY DIMENS 10.1016/j.gloenvcha.2011.10.011 357      29.8 2.58\n",
            "5  GÖSSLING S, 2012, TOUR MANAGE                         10.1016/j.tourman.2011.03.015   352      29.3 2.54\n",
            "6  MCBRATNEY A, 2014, GEODERMA                           10.1016/j.geoderma.2013.08.013  352      35.2 5.11\n",
            "7  MACDONALD AM, 2012, ENVIRONRESLETT                    10.1088/1748-9326/7/2/024009    334      27.8 2.41\n",
            "8  MADANI K, 2014, J ENVIRON STUD SCI                    10.1007/s13412-014-0182-z       326      32.6 4.73\n",
            "9  BAKKER K, 2012, SCIENCE                               10.1126/science.1226337         312      26.0 2.26\n",
            "10 D'ODORICO P, 2018, REV GEOPHYS                        10.1029/2017RG000591            224      37.3 8.19\n",
            "\n",
            "\n",
            "Corresponding Author's Countries\n",
            "\n",
            "          Country Articles   Freq SCP MCP MCP_Ratio\n",
            "1  USA                  78 0.1573  74   4    0.0513\n",
            "2  AUSTRALIA            51 0.1028  52  -1   -0.0196\n",
            "3  UNITED KINGDOM       49 0.0988  45   4    0.0816\n",
            "4  CANADA               42 0.0847  40   2    0.0476\n",
            "5  CHINA                39 0.0786  38   1    0.0256\n",
            "6  INDIA                27 0.0544  26   1    0.0370\n",
            "7  GERMANY              23 0.0464  20   3    0.1304\n",
            "8  SOUTH AFRICA         17 0.0343  17   0    0.0000\n",
            "9  MALAYSIA             16 0.0323  16   0    0.0000\n",
            "10 BRAZIL               12 0.0242  11   1    0.0833\n",
            "\n",
            "\n",
            "SCP: Single Country Publications\n",
            "\n",
            "MCP: Multiple Country Publications\n",
            "\n",
            "\n",
            "Total Citations per Country\n",
            "\n",
            "           Country      Total Citations Average Article Citations\n",
            "1  USA                             2486                     31.87\n",
            "2  UNITED KINGDOM                  1678                     34.24\n",
            "3  AUSTRALIA                       1385                     26.13\n",
            "4  CANADA                          1361                     32.40\n",
            "5  GERMANY                          792                     34.43\n",
            "6  CHINA                            610                     15.64\n",
            "7  ITALY                            584                     73.00\n",
            "8  SWITZERLAND                      418                    209.00\n",
            "9  NETHERLANDS                      389                     35.36\n",
            "10 MALAYSIA                         379                     23.69\n",
            "\n",
            "\n",
            "Most Relevant Sources\n",
            "\n",
            "                                                      Sources        Articles\n",
            "1  WATER (SWITZERLAND)                                                     28\n",
            "2  CURRENT OPINION IN ENVIRONMENTAL SUSTAINABILITY                         18\n",
            "3  WATER SECURITY                                                          18\n",
            "4  JOURNAL OF HYDROLOGY                                                    17\n",
            "5  SUSTAINABILITY (SWITZERLAND)                                            15\n",
            "6  SCIENCE OF THE TOTAL ENVIRONMENT                                        14\n",
            "7  JOURNAL OF ENVIRONMENTAL MANAGEMENT                                     13\n",
            "8  INTERNATIONAL JOURNAL OF ENVIRONMENTAL RESEARCH AND PUBLIC HEALTH       12\n",
            "9  WATER POLICY                                                            12\n",
            "10 WATER RESOURCES MANAGEMENT                                              11\n",
            "\n",
            "\n",
            "Most Relevant Keywords\n",
            "\n",
            "   Author Keywords (DE)      Articles  Keywords-Plus (ID)     Articles\n",
            "1           WATER SECURITY        208 WATER SUPPLY                 241\n",
            "2           CLIMATE CHANGE         58 WATER MANAGEMENT             210\n",
            "3           FOOD SECURITY          30 CLIMATE CHANGE               150\n",
            "4           WATER MANAGEMENT       24 WATER SECURITY               100\n",
            "5           WATER                  23 SUSTAINABLE DEVELOPMENT       84\n",
            "6           WATER SCARCITY         22 WATER QUALITY                 84\n",
            "7           DESALINATION           18 WATER                         80\n",
            "8           SUSTAINABILITY         18 WATER RESOURCE                80\n",
            "9           ADAPTATION             17 HUMAN                         62\n",
            "10          RESILIENCE             16 FOOD SECURITY                 54\n",
            "\n"
          ]
        }
      ]
    },
    {
      "cell_type": "code",
      "source": [
        "# Para visualizar os resultados via web-interface (browser)\n",
        "biblioshiny()\n",
        "\n",
        "#### Para mais informações, tutoriais e vídeos, acessar www.bibliometrix.org/"
      ],
      "metadata": {
        "colab": {
          "base_uri": "https://localhost:8080/"
        },
        "id": "FUFRbsFNKdG-",
        "outputId": "9129d939-4c0b-406d-9147-36c5955f5479"
      },
      "execution_count": 12,
      "outputs": [
        {
          "output_type": "stream",
          "name": "stderr",
          "text": [
            "Loading required package: shiny\n",
            "\n",
            "\n",
            "Listening on http://127.0.0.1:5431\n",
            "\n"
          ]
        }
      ]
    }
  ]
}