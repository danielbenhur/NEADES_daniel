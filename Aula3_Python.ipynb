{
  "nbformat": 4,
  "nbformat_minor": 0,
  "metadata": {
    "colab": {
      "provenance": [],
      "authorship_tag": "ABX9TyPb+obgcdjsw2lv/y3WbTg9",
      "include_colab_link": true
    },
    "kernelspec": {
      "name": "python3",
      "display_name": "Python 3"
    },
    "language_info": {
      "name": "python"
    }
  },
  "cells": [
    {
      "cell_type": "markdown",
      "metadata": {
        "id": "view-in-github",
        "colab_type": "text"
      },
      "source": [
        "<a href=\"https://colab.research.google.com/github/danielbenhur/NEADES_daniel/blob/main/Aula3_Python.ipynb\" target=\"_parent\"><img src=\"https://colab.research.google.com/assets/colab-badge.svg\" alt=\"Open In Colab\"/></a>"
      ]
    },
    {
      "cell_type": "markdown",
      "source": [
        "#Aula 3: Automatizando rotinas de geoprocessamento com Python"
      ],
      "metadata": {
        "id": "BuJ5wnnEhZwh"
      }
    },
    {
      "cell_type": "code",
      "execution_count": 1,
      "metadata": {
        "id": "-AG4MNGEg5Yy"
      },
      "outputs": [],
      "source": [
        "# Importe a BeautifulSoup e os componentes URLLIB\n",
        "from bs4 import BeautifulSoup\n",
        "from urllib.request import Request, urlopen, urlretrieve"
      ]
    },
    {
      "cell_type": "code",
      "source": [
        "#Definindo variável com endereço\n",
        "ende=\"https://ftp.ibge.gov.br/Censos/Censo_Demografico_2010/Resultados_do_Universo/Agregados_por_Setores_Censitarios/\"\n",
        "# Criando um objeto do tipo request que representa a requisição que você está fazendo\n",
        "requi= Request(ende)"
      ],
      "metadata": {
        "id": "h2ToG4BZiyr2"
      },
      "execution_count": 2,
      "outputs": []
    },
    {
      "cell_type": "code",
      "source": [
        "# Obtendo todo o conteúdo da página\n",
        "url_pag= urlopen(ende)\n",
        "url_pag"
      ],
      "metadata": {
        "colab": {
          "base_uri": "https://localhost:8080/"
        },
        "id": "wRD2BpM_ytAP",
        "outputId": "5a890d3e-4fc3-4199-98fc-482b5c19186f"
      },
      "execution_count": 3,
      "outputs": [
        {
          "output_type": "execute_result",
          "data": {
            "text/plain": [
              "<http.client.HTTPResponse at 0x7fe906a1b550>"
            ]
          },
          "metadata": {},
          "execution_count": 3
        }
      ]
    }
  ]
}