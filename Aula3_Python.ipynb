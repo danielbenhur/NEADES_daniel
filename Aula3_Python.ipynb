{
  "nbformat": 4,
  "nbformat_minor": 0,
  "metadata": {
    "colab": {
      "provenance": [],
      "authorship_tag": "ABX9TyMij1hBPC5JsryBanHEjtH/",
      "include_colab_link": true
    },
    "kernelspec": {
      "name": "python3",
      "display_name": "Python 3"
    },
    "language_info": {
      "name": "python"
    }
  },
  "cells": [
    {
      "cell_type": "markdown",
      "metadata": {
        "id": "view-in-github",
        "colab_type": "text"
      },
      "source": [
        "<a href=\"https://colab.research.google.com/github/danielbenhur/NEADES_daniel/blob/main/Aula3_Python.ipynb\" target=\"_parent\"><img src=\"https://colab.research.google.com/assets/colab-badge.svg\" alt=\"Open In Colab\"/></a>"
      ]
    },
    {
      "cell_type": "markdown",
      "source": [
        "#Aula 3: Automatizando rotinas de geoprocessamento com Python"
      ],
      "metadata": {
        "id": "BuJ5wnnEhZwh"
      }
    },
    {
      "cell_type": "code",
      "execution_count": 1,
      "metadata": {
        "id": "-AG4MNGEg5Yy"
      },
      "outputs": [],
      "source": [
        "# Importe a BeautifulSoup e os componentes URLLIB\n",
        "from bs4 import BeautifulSoup\n",
        "from urllib.request import Request, urlopen, urlretrieve"
      ]
    },
    {
      "cell_type": "code",
      "source": [
        "#Definindo variável com endereço\n"
      ],
      "metadata": {
        "id": "h2ToG4BZiyr2"
      },
      "execution_count": null,
      "outputs": []
    }
  ]
}